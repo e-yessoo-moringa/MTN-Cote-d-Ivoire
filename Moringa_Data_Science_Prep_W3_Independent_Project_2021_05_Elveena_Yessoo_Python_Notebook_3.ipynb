{
  "nbformat": 4,
  "nbformat_minor": 0,
  "metadata": {
    "colab": {
      "name": "Moringa_Data_Science_Prep_W3_Independent_Project_2021_05_Elveena_Yessoo_Python_Notebook #3",
      "provenance": []
    },
    "kernelspec": {
      "name": "python3",
      "display_name": "Python 3"
    },
    "language_info": {
      "name": "python"
    }
  },
  "cells": [
    {
      "cell_type": "markdown",
      "metadata": {
        "id": "xwRNUyfP5Gtx"
      },
      "source": [
        "# Importing Libraries"
      ]
    },
    {
      "cell_type": "code",
      "metadata": {
        "id": "iz-gIeZFxn0L"
      },
      "source": [
        "# Importing Pandas an Numpy Libraries\n",
        "\n",
        "import pandas as pd\n",
        "\n",
        "import numpy as np"
      ],
      "execution_count": 1,
      "outputs": []
    },
    {
      "cell_type": "markdown",
      "metadata": {
        "id": "6Hk824t55PXu"
      },
      "source": [
        "# Importing CSV files"
      ]
    },
    {
      "cell_type": "code",
      "metadata": {
        "colab": {
          "base_uri": "https://localhost:8080/"
        },
        "id": "w7YqT8ZJxo3e",
        "outputId": "3eaf4b76-b0c9-4cfe-c01a-dcbd129ee038"
      },
      "source": [
        "# Using google drive to access the link\n",
        "\n",
        "#from google.colab import drive\n",
        "#drive.mount('/content/drive')"
      ],
      "execution_count": 2,
      "outputs": [
        {
          "output_type": "stream",
          "text": [
            "Mounted at /content/drive\n"
          ],
          "name": "stdout"
        }
      ]
    },
    {
      "cell_type": "code",
      "metadata": {
        "colab": {
          "base_uri": "https://localhost:8080/"
        },
        "id": "jGyiZ3Ulxtxn",
        "outputId": "9bd8257f-4738-412e-8702-298f2627e1bf"
      },
      "source": [
        "#!curl -L 'http://bit.ly/TelecomDataset1' > ipdata.csv"
      ],
      "execution_count": 3,
      "outputs": [
        {
          "output_type": "stream",
          "text": [
            "  % Total    % Received % Xferd  Average Speed   Time    Time     Time  Current\n",
            "                                 Dload  Upload   Total   Spent    Left  Speed\n",
            "100   176  100   176    0     0   4190      0 --:--:-- --:--:-- --:--:--  4190\n",
            "  0     0    0     0    0     0      0      0 --:--:-- --:--:-- --:--:--     0\n",
            "100 1399M  100 1399M    0     0   936k      0  0:25:29  0:25:29 --:--:-- 1263k\n"
          ],
          "name": "stdout"
        }
      ]
    },
    {
      "cell_type": "code",
      "metadata": {
        "id": "nse0_8kSxtuq"
      },
      "source": [
        "#%cp -r ipdata.csv /content/drive/MyDrive/ipdata.csv"
      ],
      "execution_count": 5,
      "outputs": []
    },
    {
      "cell_type": "code",
      "metadata": {
        "colab": {
          "base_uri": "https://localhost:8080/"
        },
        "id": "WBDUYOXWxtqD",
        "outputId": "2d8a4b64-9a25-4ead-aaf3-f6e643cf20ae"
      },
      "source": [
        "# Uploading and reading dataset # 1\n",
        "\n",
        "dt06july = pd.read_csv('/content/drive/MyDrive/ipdata.csv')\n",
        "dt06july.head()"
      ],
      "execution_count": 6,
      "outputs": [
        {
          "output_type": "execute_result",
          "data": {
            "text/plain": [
              "(15011816, 10)"
            ]
          },
          "metadata": {
            "tags": []
          },
          "execution_count": 6
        }
      ]
    },
    {
      "cell_type": "code",
      "metadata": {
        "colab": {
          "base_uri": "https://localhost:8080/",
          "height": 196
        },
        "id": "CU_ukJCFx8lE",
        "outputId": "265d49bc-0faa-4673-ae46-7b032763aac7"
      },
      "source": [
        "# Uploading and reading dataset # 2\n",
        "\n",
        "\n",
        "cells_geo = pd.read_csv(\"cells_geo.csv\", header =0, index_col=0, delimiter = ';')\n",
        "cells_geo.head()"
      ],
      "execution_count": 56,
      "outputs": [
        {
          "output_type": "execute_result",
          "data": {
            "text/html": [
              "<div>\n",
              "<style scoped>\n",
              "    .dataframe tbody tr th:only-of-type {\n",
              "        vertical-align: middle;\n",
              "    }\n",
              "\n",
              "    .dataframe tbody tr th {\n",
              "        vertical-align: top;\n",
              "    }\n",
              "\n",
              "    .dataframe thead th {\n",
              "        text-align: right;\n",
              "    }\n",
              "</style>\n",
              "<table border=\"1\" class=\"dataframe\">\n",
              "  <thead>\n",
              "    <tr style=\"text-align: right;\">\n",
              "      <th></th>\n",
              "      <th>VILLES</th>\n",
              "      <th>STATUS</th>\n",
              "      <th>LOCALISATION</th>\n",
              "      <th>DECOUPZONE</th>\n",
              "      <th>ZONENAME</th>\n",
              "      <th>LONGITUDE</th>\n",
              "      <th>LATITUDE</th>\n",
              "      <th>REGION</th>\n",
              "      <th>AREA</th>\n",
              "      <th>CELL_ID</th>\n",
              "      <th>SITE_CODE</th>\n",
              "    </tr>\n",
              "  </thead>\n",
              "  <tbody>\n",
              "    <tr>\n",
              "      <th>0</th>\n",
              "      <td>ADJAME</td>\n",
              "      <td>In Service</td>\n",
              "      <td>ABIDJAN</td>\n",
              "      <td>\"Abidjan_EST</td>\n",
              "      <td>AGBANNEW</td>\n",
              "      <td>-4.000667</td>\n",
              "      <td>5.368194</td>\n",
              "      <td>LAGUNE</td>\n",
              "      <td>NaN</td>\n",
              "      <td>fbb2e75af3</td>\n",
              "      <td>0bb492ef17</td>\n",
              "    </tr>\n",
              "    <tr>\n",
              "      <th>1</th>\n",
              "      <td>ADJAME</td>\n",
              "      <td>In Service</td>\n",
              "      <td>ABIDJAN</td>\n",
              "      <td>\"Abidjan_EST</td>\n",
              "      <td>AGBANNEW</td>\n",
              "      <td>-4.000667</td>\n",
              "      <td>5.368194</td>\n",
              "      <td>LAGUNE</td>\n",
              "      <td>NaN</td>\n",
              "      <td>1502501d78</td>\n",
              "      <td>0bb492ef17</td>\n",
              "    </tr>\n",
              "    <tr>\n",
              "      <th>2</th>\n",
              "      <td>ADJAME</td>\n",
              "      <td>In Service</td>\n",
              "      <td>ABIDJAN</td>\n",
              "      <td>\"Abidjan_EST</td>\n",
              "      <td>AGBANNEW</td>\n",
              "      <td>-4.000667</td>\n",
              "      <td>5.368194</td>\n",
              "      <td>LAGUNE</td>\n",
              "      <td>NaN</td>\n",
              "      <td>0c2e182a0c</td>\n",
              "      <td>0bb492ef17</td>\n",
              "    </tr>\n",
              "    <tr>\n",
              "      <th>3</th>\n",
              "      <td>ASSINIE</td>\n",
              "      <td>In Service</td>\n",
              "      <td>INTERIEUR</td>\n",
              "      <td>Grand-EST</td>\n",
              "      <td>ASSINIE\"</td>\n",
              "      <td>-3.488467</td>\n",
              "      <td>5.158761</td>\n",
              "      <td>SUD COMOE</td>\n",
              "      <td>NaN</td>\n",
              "      <td>69bdfc69fd</td>\n",
              "      <td>8a1e6ce31f</td>\n",
              "    </tr>\n",
              "    <tr>\n",
              "      <th>4</th>\n",
              "      <td>ASSINIE</td>\n",
              "      <td>In Service</td>\n",
              "      <td>INTERIEUR</td>\n",
              "      <td>Grand-EST</td>\n",
              "      <td>ASSINIE\"</td>\n",
              "      <td>-3.488467</td>\n",
              "      <td>5.158761</td>\n",
              "      <td>SUD COMOE</td>\n",
              "      <td>NaN</td>\n",
              "      <td>7a1029d2ab</td>\n",
              "      <td>8a1e6ce31f</td>\n",
              "    </tr>\n",
              "  </tbody>\n",
              "</table>\n",
              "</div>"
            ],
            "text/plain": [
              "    VILLES      STATUS LOCALISATION  ... AREA     CELL_ID   SITE_CODE\n",
              "0   ADJAME  In Service      ABIDJAN  ...  NaN  fbb2e75af3  0bb492ef17\n",
              "1   ADJAME  In Service      ABIDJAN  ...  NaN  1502501d78  0bb492ef17\n",
              "2   ADJAME  In Service      ABIDJAN  ...  NaN  0c2e182a0c  0bb492ef17\n",
              "3  ASSINIE  In Service    INTERIEUR  ...  NaN  69bdfc69fd  8a1e6ce31f\n",
              "4  ASSINIE  In Service    INTERIEUR  ...  NaN  7a1029d2ab  8a1e6ce31f\n",
              "\n",
              "[5 rows x 11 columns]"
            ]
          },
          "metadata": {
            "tags": []
          },
          "execution_count": 56
        }
      ]
    },
    {
      "cell_type": "markdown",
      "metadata": {
        "id": "stlM6qaW5dXQ"
      },
      "source": [
        "## Previewing the Dataset"
      ]
    },
    {
      "cell_type": "code",
      "metadata": {
        "colab": {
          "base_uri": "https://localhost:8080/",
          "height": 759
        },
        "id": "JayqZdedx8qh",
        "outputId": "1f7623cb-a855-406b-8877-93af9f513796"
      },
      "source": [
        "dt06july"
      ],
      "execution_count": 7,
      "outputs": [
        {
          "output_type": "execute_result",
          "data": {
            "text/html": [
              "<div>\n",
              "<style scoped>\n",
              "    .dataframe tbody tr th:only-of-type {\n",
              "        vertical-align: middle;\n",
              "    }\n",
              "\n",
              "    .dataframe tbody tr th {\n",
              "        vertical-align: top;\n",
              "    }\n",
              "\n",
              "    .dataframe thead th {\n",
              "        text-align: right;\n",
              "    }\n",
              "</style>\n",
              "<table border=\"1\" class=\"dataframe\">\n",
              "  <thead>\n",
              "    <tr style=\"text-align: right;\">\n",
              "      <th></th>\n",
              "      <th>PRODUTC</th>\n",
              "      <th>VALUE</th>\n",
              "      <th>DATETIME</th>\n",
              "      <th>CELL_ON_SITE</th>\n",
              "      <th>DW_A_NUMBER_INT</th>\n",
              "      <th>DW_B_NUMBER_INT</th>\n",
              "      <th>COUNTRY_A</th>\n",
              "      <th>COUNTRY_B</th>\n",
              "      <th>CELL_ID</th>\n",
              "      <th>SITE_ID</th>\n",
              "    </tr>\n",
              "  </thead>\n",
              "  <tbody>\n",
              "    <tr>\n",
              "      <th>0</th>\n",
              "      <td>Voice</td>\n",
              "      <td>0</td>\n",
              "      <td>2012-05-06 23:04:37.0</td>\n",
              "      <td>1</td>\n",
              "      <td>49fae048b547780</td>\n",
              "      <td>1a49f8b0ded9de6</td>\n",
              "      <td>19e2e</td>\n",
              "      <td>19e2e</td>\n",
              "      <td>/TJNe+Mmtu</td>\n",
              "      <td>/TJNe+Mmtu</td>\n",
              "    </tr>\n",
              "    <tr>\n",
              "      <th>1</th>\n",
              "      <td>sms</td>\n",
              "      <td>0</td>\n",
              "      <td>2012-05-06 23:05:25.0</td>\n",
              "      <td>0</td>\n",
              "      <td>7a54a6eaee19e65</td>\n",
              "      <td>93343ba6e41af95</td>\n",
              "      <td>19e2e</td>\n",
              "      <td>19e2e</td>\n",
              "      <td>/+cKZKIp41</td>\n",
              "      <td>/+cKZKIp41</td>\n",
              "    </tr>\n",
              "    <tr>\n",
              "      <th>2</th>\n",
              "      <td>sms</td>\n",
              "      <td>25</td>\n",
              "      <td>2012-05-06 23:05:41.0</td>\n",
              "      <td>0</td>\n",
              "      <td>6008887b0207d82</td>\n",
              "      <td>7aacc9709ce0a20</td>\n",
              "      <td>19e2e</td>\n",
              "      <td>19e2e</td>\n",
              "      <td>/u0FSD+ahi</td>\n",
              "      <td>/u0FSD+ahi</td>\n",
              "    </tr>\n",
              "    <tr>\n",
              "      <th>3</th>\n",
              "      <td>Voice</td>\n",
              "      <td>56</td>\n",
              "      <td>2012-05-06 23:05:42.0</td>\n",
              "      <td>1</td>\n",
              "      <td>7370032e20f4e96</td>\n",
              "      <td>6af4a60e74c91d3</td>\n",
              "      <td>19e2e</td>\n",
              "      <td>19e2e</td>\n",
              "      <td>+cNeJzsTp3</td>\n",
              "      <td>+cNeJzsTp3</td>\n",
              "    </tr>\n",
              "    <tr>\n",
              "      <th>4</th>\n",
              "      <td>Voice</td>\n",
              "      <td>14</td>\n",
              "      <td>2012-05-06 23:06:29.0</td>\n",
              "      <td>1</td>\n",
              "      <td>966ba4656e38e62</td>\n",
              "      <td>02aa736ee555d5c</td>\n",
              "      <td>19e2e</td>\n",
              "      <td>19e2e</td>\n",
              "      <td>051KhYDCpv</td>\n",
              "      <td>051KhYDCpv</td>\n",
              "    </tr>\n",
              "    <tr>\n",
              "      <th>...</th>\n",
              "      <td>...</td>\n",
              "      <td>...</td>\n",
              "      <td>...</td>\n",
              "      <td>...</td>\n",
              "      <td>...</td>\n",
              "      <td>...</td>\n",
              "      <td>...</td>\n",
              "      <td>...</td>\n",
              "      <td>...</td>\n",
              "      <td>...</td>\n",
              "    </tr>\n",
              "    <tr>\n",
              "      <th>15011811</th>\n",
              "      <td>Voice</td>\n",
              "      <td>40</td>\n",
              "      <td>2012-05-08 00:56:07.0</td>\n",
              "      <td>0</td>\n",
              "      <td>e987bf660f247dc</td>\n",
              "      <td>063cac5c0732e0e</td>\n",
              "      <td>19e2e</td>\n",
              "      <td>19e2e</td>\n",
              "      <td>y8Zy+A5U3K</td>\n",
              "      <td>y8Zy+A5U3K</td>\n",
              "    </tr>\n",
              "    <tr>\n",
              "      <th>15011812</th>\n",
              "      <td>sms</td>\n",
              "      <td>0</td>\n",
              "      <td>2012-05-08 00:56:17.0</td>\n",
              "      <td>2</td>\n",
              "      <td>b8c272a0f3af025</td>\n",
              "      <td>0330e9891becf50</td>\n",
              "      <td>19e2e</td>\n",
              "      <td>19e2e</td>\n",
              "      <td>yGAZ0YDzFi</td>\n",
              "      <td>yGAZ0YDzFi</td>\n",
              "    </tr>\n",
              "    <tr>\n",
              "      <th>15011813</th>\n",
              "      <td>sms</td>\n",
              "      <td>0</td>\n",
              "      <td>2012-05-08 00:57:49.0</td>\n",
              "      <td>4</td>\n",
              "      <td>444da5f3bc97ddd</td>\n",
              "      <td>cdf059592911590</td>\n",
              "      <td>19e2e</td>\n",
              "      <td>19e2e</td>\n",
              "      <td>ywp1Gp+dk/</td>\n",
              "      <td>ywp1Gp+dk/</td>\n",
              "    </tr>\n",
              "    <tr>\n",
              "      <th>15011814</th>\n",
              "      <td>sms</td>\n",
              "      <td>0</td>\n",
              "      <td>2012-05-08 00:57:51.0</td>\n",
              "      <td>2</td>\n",
              "      <td>4e74f5fb77a9626</td>\n",
              "      <td>403d3a68252a05b</td>\n",
              "      <td>19e2e</td>\n",
              "      <td>19e2e</td>\n",
              "      <td>zsA2dnzCR5</td>\n",
              "      <td>zsA2dnzCR5</td>\n",
              "    </tr>\n",
              "    <tr>\n",
              "      <th>15011815</th>\n",
              "      <td>sms</td>\n",
              "      <td>0</td>\n",
              "      <td>2012-05-08 00:59:05.0</td>\n",
              "      <td>4</td>\n",
              "      <td>483773410aa8d98</td>\n",
              "      <td>aaaf0e4bdec7311</td>\n",
              "      <td>19e2e</td>\n",
              "      <td>19e2e</td>\n",
              "      <td>zn4qbCp2XH</td>\n",
              "      <td>zn4qbCp2XH</td>\n",
              "    </tr>\n",
              "  </tbody>\n",
              "</table>\n",
              "<p>15011816 rows × 10 columns</p>\n",
              "</div>"
            ],
            "text/plain": [
              "         PRODUTC  VALUE  ...     CELL_ID     SITE_ID\n",
              "0          Voice      0  ...  /TJNe+Mmtu  /TJNe+Mmtu\n",
              "1            sms      0  ...  /+cKZKIp41  /+cKZKIp41\n",
              "2            sms     25  ...  /u0FSD+ahi  /u0FSD+ahi\n",
              "3          Voice     56  ...  +cNeJzsTp3  +cNeJzsTp3\n",
              "4          Voice     14  ...  051KhYDCpv  051KhYDCpv\n",
              "...          ...    ...  ...         ...         ...\n",
              "15011811   Voice     40  ...  y8Zy+A5U3K  y8Zy+A5U3K\n",
              "15011812     sms      0  ...  yGAZ0YDzFi  yGAZ0YDzFi\n",
              "15011813     sms      0  ...  ywp1Gp+dk/  ywp1Gp+dk/\n",
              "15011814     sms      0  ...  zsA2dnzCR5  zsA2dnzCR5\n",
              "15011815     sms      0  ...  zn4qbCp2XH  zn4qbCp2XH\n",
              "\n",
              "[15011816 rows x 10 columns]"
            ]
          },
          "metadata": {
            "tags": []
          },
          "execution_count": 7
        }
      ]
    },
    {
      "cell_type": "code",
      "metadata": {
        "colab": {
          "base_uri": "https://localhost:8080/",
          "height": 675
        },
        "id": "TxqU03xw6N1m",
        "outputId": "aa2f3859-5b59-4565-d5f1-a79a433fac32"
      },
      "source": [
        "cells_geo"
      ],
      "execution_count": 57,
      "outputs": [
        {
          "output_type": "execute_result",
          "data": {
            "text/html": [
              "<div>\n",
              "<style scoped>\n",
              "    .dataframe tbody tr th:only-of-type {\n",
              "        vertical-align: middle;\n",
              "    }\n",
              "\n",
              "    .dataframe tbody tr th {\n",
              "        vertical-align: top;\n",
              "    }\n",
              "\n",
              "    .dataframe thead th {\n",
              "        text-align: right;\n",
              "    }\n",
              "</style>\n",
              "<table border=\"1\" class=\"dataframe\">\n",
              "  <thead>\n",
              "    <tr style=\"text-align: right;\">\n",
              "      <th></th>\n",
              "      <th>VILLES</th>\n",
              "      <th>STATUS</th>\n",
              "      <th>LOCALISATION</th>\n",
              "      <th>DECOUPZONE</th>\n",
              "      <th>ZONENAME</th>\n",
              "      <th>LONGITUDE</th>\n",
              "      <th>LATITUDE</th>\n",
              "      <th>REGION</th>\n",
              "      <th>AREA</th>\n",
              "      <th>CELL_ID</th>\n",
              "      <th>SITE_CODE</th>\n",
              "    </tr>\n",
              "  </thead>\n",
              "  <tbody>\n",
              "    <tr>\n",
              "      <th>0</th>\n",
              "      <td>ADJAME</td>\n",
              "      <td>In Service</td>\n",
              "      <td>ABIDJAN</td>\n",
              "      <td>\"Abidjan_EST</td>\n",
              "      <td>AGBANNEW</td>\n",
              "      <td>-4.000667</td>\n",
              "      <td>5.368194</td>\n",
              "      <td>LAGUNE</td>\n",
              "      <td>NaN</td>\n",
              "      <td>fbb2e75af3</td>\n",
              "      <td>0bb492ef17</td>\n",
              "    </tr>\n",
              "    <tr>\n",
              "      <th>1</th>\n",
              "      <td>ADJAME</td>\n",
              "      <td>In Service</td>\n",
              "      <td>ABIDJAN</td>\n",
              "      <td>\"Abidjan_EST</td>\n",
              "      <td>AGBANNEW</td>\n",
              "      <td>-4.000667</td>\n",
              "      <td>5.368194</td>\n",
              "      <td>LAGUNE</td>\n",
              "      <td>NaN</td>\n",
              "      <td>1502501d78</td>\n",
              "      <td>0bb492ef17</td>\n",
              "    </tr>\n",
              "    <tr>\n",
              "      <th>2</th>\n",
              "      <td>ADJAME</td>\n",
              "      <td>In Service</td>\n",
              "      <td>ABIDJAN</td>\n",
              "      <td>\"Abidjan_EST</td>\n",
              "      <td>AGBANNEW</td>\n",
              "      <td>-4.000667</td>\n",
              "      <td>5.368194</td>\n",
              "      <td>LAGUNE</td>\n",
              "      <td>NaN</td>\n",
              "      <td>0c2e182a0c</td>\n",
              "      <td>0bb492ef17</td>\n",
              "    </tr>\n",
              "    <tr>\n",
              "      <th>3</th>\n",
              "      <td>ASSINIE</td>\n",
              "      <td>In Service</td>\n",
              "      <td>INTERIEUR</td>\n",
              "      <td>Grand-EST</td>\n",
              "      <td>ASSINIE\"</td>\n",
              "      <td>-3.488467</td>\n",
              "      <td>5.158761</td>\n",
              "      <td>SUD COMOE</td>\n",
              "      <td>NaN</td>\n",
              "      <td>69bdfc69fd</td>\n",
              "      <td>8a1e6ce31f</td>\n",
              "    </tr>\n",
              "    <tr>\n",
              "      <th>4</th>\n",
              "      <td>ASSINIE</td>\n",
              "      <td>In Service</td>\n",
              "      <td>INTERIEUR</td>\n",
              "      <td>Grand-EST</td>\n",
              "      <td>ASSINIE\"</td>\n",
              "      <td>-3.488467</td>\n",
              "      <td>5.158761</td>\n",
              "      <td>SUD COMOE</td>\n",
              "      <td>NaN</td>\n",
              "      <td>7a1029d2ab</td>\n",
              "      <td>8a1e6ce31f</td>\n",
              "    </tr>\n",
              "    <tr>\n",
              "      <th>...</th>\n",
              "      <td>...</td>\n",
              "      <td>...</td>\n",
              "      <td>...</td>\n",
              "      <td>...</td>\n",
              "      <td>...</td>\n",
              "      <td>...</td>\n",
              "      <td>...</td>\n",
              "      <td>...</td>\n",
              "      <td>...</td>\n",
              "      <td>...</td>\n",
              "      <td>...</td>\n",
              "    </tr>\n",
              "    <tr>\n",
              "      <th>3969</th>\n",
              "      <td>ZUENOULA</td>\n",
              "      <td>In Service</td>\n",
              "      <td>INTERIEUR</td>\n",
              "      <td>Grand-NORD</td>\n",
              "      <td>ZONE A - Grand-NORD</td>\n",
              "      <td>-6.039694</td>\n",
              "      <td>7.428611</td>\n",
              "      <td>MARAHOUE</td>\n",
              "      <td>CENTRE NORTH</td>\n",
              "      <td>1cfc2d7ab1</td>\n",
              "      <td>f91ed8d2e9</td>\n",
              "    </tr>\n",
              "    <tr>\n",
              "      <th>3970</th>\n",
              "      <td>ZUENOULA</td>\n",
              "      <td>In Service</td>\n",
              "      <td>INTERIEUR</td>\n",
              "      <td>Grand-NORD</td>\n",
              "      <td>ZONE A - Grand-NORD</td>\n",
              "      <td>-6.039694</td>\n",
              "      <td>7.428611</td>\n",
              "      <td>MARAHOUE</td>\n",
              "      <td>CENTRE NORTH</td>\n",
              "      <td>3ae1708153</td>\n",
              "      <td>f91ed8d2e9</td>\n",
              "    </tr>\n",
              "    <tr>\n",
              "      <th>3971</th>\n",
              "      <td>ZUENOULA</td>\n",
              "      <td>In Service</td>\n",
              "      <td>INTERIEUR</td>\n",
              "      <td>Grand-NORD</td>\n",
              "      <td>ZONE A - Grand-NORD</td>\n",
              "      <td>-6.065450</td>\n",
              "      <td>7.444592</td>\n",
              "      <td>MARAHOUE</td>\n",
              "      <td>CENTRE NORTH</td>\n",
              "      <td>cb71f8a29c</td>\n",
              "      <td>61bee9c70c</td>\n",
              "    </tr>\n",
              "    <tr>\n",
              "      <th>3972</th>\n",
              "      <td>ZUENOULA</td>\n",
              "      <td>In Service</td>\n",
              "      <td>INTERIEUR</td>\n",
              "      <td>Grand-NORD</td>\n",
              "      <td>ZONE A - Grand-NORD</td>\n",
              "      <td>-6.065450</td>\n",
              "      <td>7.444592</td>\n",
              "      <td>MARAHOUE</td>\n",
              "      <td>CENTRE NORTH</td>\n",
              "      <td>d4a6a0b645</td>\n",
              "      <td>61bee9c70c</td>\n",
              "    </tr>\n",
              "    <tr>\n",
              "      <th>3973</th>\n",
              "      <td>ZUENOULA</td>\n",
              "      <td>In Service</td>\n",
              "      <td>INTERIEUR</td>\n",
              "      <td>Grand-NORD</td>\n",
              "      <td>ZONE A - Grand-NORD</td>\n",
              "      <td>-6.065450</td>\n",
              "      <td>7.444592</td>\n",
              "      <td>MARAHOUE</td>\n",
              "      <td>CENTRE NORTH</td>\n",
              "      <td>f9f3e42589</td>\n",
              "      <td>61bee9c70c</td>\n",
              "    </tr>\n",
              "  </tbody>\n",
              "</table>\n",
              "<p>3974 rows × 11 columns</p>\n",
              "</div>"
            ],
            "text/plain": [
              "        VILLES      STATUS LOCALISATION  ...          AREA     CELL_ID   SITE_CODE\n",
              "0       ADJAME  In Service      ABIDJAN  ...           NaN  fbb2e75af3  0bb492ef17\n",
              "1       ADJAME  In Service      ABIDJAN  ...           NaN  1502501d78  0bb492ef17\n",
              "2       ADJAME  In Service      ABIDJAN  ...           NaN  0c2e182a0c  0bb492ef17\n",
              "3      ASSINIE  In Service    INTERIEUR  ...           NaN  69bdfc69fd  8a1e6ce31f\n",
              "4      ASSINIE  In Service    INTERIEUR  ...           NaN  7a1029d2ab  8a1e6ce31f\n",
              "...        ...         ...          ...  ...           ...         ...         ...\n",
              "3969  ZUENOULA  In Service    INTERIEUR  ...  CENTRE NORTH  1cfc2d7ab1  f91ed8d2e9\n",
              "3970  ZUENOULA  In Service    INTERIEUR  ...  CENTRE NORTH  3ae1708153  f91ed8d2e9\n",
              "3971  ZUENOULA  In Service    INTERIEUR  ...  CENTRE NORTH  cb71f8a29c  61bee9c70c\n",
              "3972  ZUENOULA  In Service    INTERIEUR  ...  CENTRE NORTH  d4a6a0b645  61bee9c70c\n",
              "3973  ZUENOULA  In Service    INTERIEUR  ...  CENTRE NORTH  f9f3e42589  61bee9c70c\n",
              "\n",
              "[3974 rows x 11 columns]"
            ]
          },
          "metadata": {
            "tags": []
          },
          "execution_count": 57
        }
      ]
    },
    {
      "cell_type": "markdown",
      "metadata": {
        "id": "MDrD-znH5DzZ"
      },
      "source": [
        "# Data Cleaning"
      ]
    },
    {
      "cell_type": "markdown",
      "metadata": {
        "id": "9FVoSNFl65aW"
      },
      "source": [
        "## Uniformity"
      ]
    },
    {
      "cell_type": "code",
      "metadata": {
        "colab": {
          "base_uri": "https://localhost:8080/"
        },
        "id": "wcbbXmOXx8nz",
        "outputId": "f8d75ba5-a510-43ec-a813-316f21db049f"
      },
      "source": [
        "# Standardizing columns names for dataset 1\n",
        "\n",
        "dt06july.columns = dt06july.columns.str.strip().str.lower().str.replace(' ', '_').str.replace('(', '').str.replace(')', '')\n",
        "dt06july.columns"
      ],
      "execution_count": 8,
      "outputs": [
        {
          "output_type": "execute_result",
          "data": {
            "text/plain": [
              "Index(['produtc', 'value', 'datetime', 'cell_on_site', 'dw_a_number_int',\n",
              "       'dw_b_number_int', 'country_a', 'country_b', 'cell_id', 'site_id'],\n",
              "      dtype='object')"
            ]
          },
          "metadata": {
            "tags": []
          },
          "execution_count": 8
        }
      ]
    },
    {
      "cell_type": "code",
      "metadata": {
        "colab": {
          "base_uri": "https://localhost:8080/"
        },
        "id": "L3sbAKhl6hlY",
        "outputId": "c53ecc11-60a5-4d93-a785-f80b2dbd526d"
      },
      "source": [
        "# Removing the typos from the column names\n",
        "\n",
        "dt06july = dt06july.rename(columns={'produtc': 'product','datetime': 'date_time' })\n",
        "dt06july.columns"
      ],
      "execution_count": 13,
      "outputs": [
        {
          "output_type": "execute_result",
          "data": {
            "text/plain": [
              "Index(['product', 'value', 'date_time', 'cell_on_site', 'dw_a_number_int',\n",
              "       'dw_b_number_int', 'country_a', 'country_b', 'cell_id', 'site_id'],\n",
              "      dtype='object')"
            ]
          },
          "metadata": {
            "tags": []
          },
          "execution_count": 13
        }
      ]
    },
    {
      "cell_type": "code",
      "metadata": {
        "colab": {
          "base_uri": "https://localhost:8080/"
        },
        "id": "MzPLmI_ex8ic",
        "outputId": "58244ad4-95f4-4060-c06b-056f9e7326cf"
      },
      "source": [
        "# Standardizing columns names for dataset 2\n",
        "\n",
        "cells_geo.columns = cells_geo.columns.str.strip().str.lower().str.replace(' ', '_').str.replace('(', '').str.replace(')', '')\n",
        "cells_geo.columns"
      ],
      "execution_count": 10,
      "outputs": [
        {
          "output_type": "execute_result",
          "data": {
            "text/plain": [
              "Index(['villes', 'status', 'localisation', 'decoupzone', 'zonename',\n",
              "       'longitude', 'latitude', 'region', 'area', 'cell_id', 'site_code'],\n",
              "      dtype='object')"
            ]
          },
          "metadata": {
            "tags": []
          },
          "execution_count": 10
        }
      ]
    },
    {
      "cell_type": "code",
      "metadata": {
        "id": "rTTOBKe86fiY"
      },
      "source": [
        ""
      ],
      "execution_count": null,
      "outputs": []
    },
    {
      "cell_type": "markdown",
      "metadata": {
        "id": "lGto-ebs6-yc"
      },
      "source": [
        "## Data Validity"
      ]
    },
    {
      "cell_type": "code",
      "metadata": {
        "colab": {
          "base_uri": "https://localhost:8080/"
        },
        "id": "Kt-eqDks6fez",
        "outputId": "ac7216b3-f691-4e1c-fb53-02efe67f464a"
      },
      "source": [
        "# Dropping irrelevant data\n",
        "\n",
        "dt06july.drop([\"cell_on_site\",\"dw_a_number_int\", \t\"dw_b_number_int\" ,\t\"country_a\",\"country_b\", 'site_id'], axis = 1, inplace = True) \n",
        "dt06july.columns"
      ],
      "execution_count": 14,
      "outputs": [
        {
          "output_type": "execute_result",
          "data": {
            "text/plain": [
              "Index(['product', 'value', 'date_time', 'cell_id'], dtype='object')"
            ]
          },
          "metadata": {
            "tags": []
          },
          "execution_count": 14
        }
      ]
    },
    {
      "cell_type": "code",
      "metadata": {
        "colab": {
          "base_uri": "https://localhost:8080/"
        },
        "id": "i6Bk8-Zv7TvV",
        "outputId": "43bebedb-f9b6-4a9d-ff29-4afbc070885b"
      },
      "source": [
        "# Checking data set shape\n",
        "\n",
        "dt06july.shape"
      ],
      "execution_count": 16,
      "outputs": [
        {
          "output_type": "execute_result",
          "data": {
            "text/plain": [
              "(15011816, 4)"
            ]
          },
          "metadata": {
            "tags": []
          },
          "execution_count": 16
        }
      ]
    },
    {
      "cell_type": "code",
      "metadata": {
        "colab": {
          "base_uri": "https://localhost:8080/"
        },
        "id": "eXrwYtI07XZ3",
        "outputId": "133d41c0-683c-4647-ee93-c830e4d259d3"
      },
      "source": [
        "dt06july.info()"
      ],
      "execution_count": 17,
      "outputs": [
        {
          "output_type": "stream",
          "text": [
            "<class 'pandas.core.frame.DataFrame'>\n",
            "RangeIndex: 15011816 entries, 0 to 15011815\n",
            "Data columns (total 4 columns):\n",
            " #   Column     Dtype \n",
            "---  ------     ----- \n",
            " 0   product    object\n",
            " 1   value      int64 \n",
            " 2   date_time  object\n",
            " 3   cell_id    object\n",
            "dtypes: int64(1), object(3)\n",
            "memory usage: 458.1+ MB\n"
          ],
          "name": "stdout"
        }
      ]
    },
    {
      "cell_type": "code",
      "metadata": {
        "colab": {
          "base_uri": "https://localhost:8080/"
        },
        "id": "blaz0HkK7qfw",
        "outputId": "e9d014fd-7808-4dab-a3f0-ea363be8b61e"
      },
      "source": [
        "# Changing the data type of the date_time column\n",
        "\n",
        "dt06july['date_time'] = pd.to_datetime(dt06july['date_time'])\n",
        "dt06july.info()"
      ],
      "execution_count": 21,
      "outputs": [
        {
          "output_type": "stream",
          "text": [
            "<class 'pandas.core.frame.DataFrame'>\n",
            "RangeIndex: 15011816 entries, 0 to 15011815\n",
            "Data columns (total 4 columns):\n",
            " #   Column     Dtype         \n",
            "---  ------     -----         \n",
            " 0   product    object        \n",
            " 1   value      int64         \n",
            " 2   date_time  datetime64[ns]\n",
            " 3   cell_id    object        \n",
            "dtypes: datetime64[ns](1), int64(1), object(2)\n",
            "memory usage: 458.1+ MB\n"
          ],
          "name": "stdout"
        }
      ]
    },
    {
      "cell_type": "code",
      "metadata": {
        "id": "7XbNiex27t-1"
      },
      "source": [
        "# Spliting the date and time into two columns\n",
        "\n",
        "dt06july['date'] = [d.date() for d in dt06july.date_time]\n",
        "dt06july['time'] = [d.time() for d in dt06july.date_time]\n",
        "\n",
        "dt06july['date'] =pd.to_datetime(dt06july['date'])\n",
        "dt06july['time'] =pd.to_datetime(dt06july['time'], format= '%H:%M:%S:f', errors = 'ignore')\n"
      ],
      "execution_count": 28,
      "outputs": []
    },
    {
      "cell_type": "code",
      "metadata": {
        "colab": {
          "base_uri": "https://localhost:8080/",
          "height": 404
        },
        "id": "D_vVsuM79bMr",
        "outputId": "4e2ba649-2409-4880-ba9a-fe5c9423beb8"
      },
      "source": [
        "# Verifying that change took place\n",
        "\n",
        "dt06july"
      ],
      "execution_count": 30,
      "outputs": [
        {
          "output_type": "execute_result",
          "data": {
            "text/html": [
              "<div>\n",
              "<style scoped>\n",
              "    .dataframe tbody tr th:only-of-type {\n",
              "        vertical-align: middle;\n",
              "    }\n",
              "\n",
              "    .dataframe tbody tr th {\n",
              "        vertical-align: top;\n",
              "    }\n",
              "\n",
              "    .dataframe thead th {\n",
              "        text-align: right;\n",
              "    }\n",
              "</style>\n",
              "<table border=\"1\" class=\"dataframe\">\n",
              "  <thead>\n",
              "    <tr style=\"text-align: right;\">\n",
              "      <th></th>\n",
              "      <th>product</th>\n",
              "      <th>value</th>\n",
              "      <th>date_time</th>\n",
              "      <th>cell_id</th>\n",
              "      <th>date</th>\n",
              "      <th>time</th>\n",
              "    </tr>\n",
              "  </thead>\n",
              "  <tbody>\n",
              "    <tr>\n",
              "      <th>0</th>\n",
              "      <td>Voice</td>\n",
              "      <td>0</td>\n",
              "      <td>2012-05-06 23:04:37</td>\n",
              "      <td>/TJNe+Mmtu</td>\n",
              "      <td>2012-05-06</td>\n",
              "      <td>23:04:37</td>\n",
              "    </tr>\n",
              "    <tr>\n",
              "      <th>1</th>\n",
              "      <td>sms</td>\n",
              "      <td>0</td>\n",
              "      <td>2012-05-06 23:05:25</td>\n",
              "      <td>/+cKZKIp41</td>\n",
              "      <td>2012-05-06</td>\n",
              "      <td>23:05:25</td>\n",
              "    </tr>\n",
              "    <tr>\n",
              "      <th>2</th>\n",
              "      <td>sms</td>\n",
              "      <td>25</td>\n",
              "      <td>2012-05-06 23:05:41</td>\n",
              "      <td>/u0FSD+ahi</td>\n",
              "      <td>2012-05-06</td>\n",
              "      <td>23:05:41</td>\n",
              "    </tr>\n",
              "    <tr>\n",
              "      <th>3</th>\n",
              "      <td>Voice</td>\n",
              "      <td>56</td>\n",
              "      <td>2012-05-06 23:05:42</td>\n",
              "      <td>+cNeJzsTp3</td>\n",
              "      <td>2012-05-06</td>\n",
              "      <td>23:05:42</td>\n",
              "    </tr>\n",
              "    <tr>\n",
              "      <th>4</th>\n",
              "      <td>Voice</td>\n",
              "      <td>14</td>\n",
              "      <td>2012-05-06 23:06:29</td>\n",
              "      <td>051KhYDCpv</td>\n",
              "      <td>2012-05-06</td>\n",
              "      <td>23:06:29</td>\n",
              "    </tr>\n",
              "    <tr>\n",
              "      <th>...</th>\n",
              "      <td>...</td>\n",
              "      <td>...</td>\n",
              "      <td>...</td>\n",
              "      <td>...</td>\n",
              "      <td>...</td>\n",
              "      <td>...</td>\n",
              "    </tr>\n",
              "    <tr>\n",
              "      <th>15011811</th>\n",
              "      <td>Voice</td>\n",
              "      <td>40</td>\n",
              "      <td>2012-05-08 00:56:07</td>\n",
              "      <td>y8Zy+A5U3K</td>\n",
              "      <td>2012-05-08</td>\n",
              "      <td>00:56:07</td>\n",
              "    </tr>\n",
              "    <tr>\n",
              "      <th>15011812</th>\n",
              "      <td>sms</td>\n",
              "      <td>0</td>\n",
              "      <td>2012-05-08 00:56:17</td>\n",
              "      <td>yGAZ0YDzFi</td>\n",
              "      <td>2012-05-08</td>\n",
              "      <td>00:56:17</td>\n",
              "    </tr>\n",
              "    <tr>\n",
              "      <th>15011813</th>\n",
              "      <td>sms</td>\n",
              "      <td>0</td>\n",
              "      <td>2012-05-08 00:57:49</td>\n",
              "      <td>ywp1Gp+dk/</td>\n",
              "      <td>2012-05-08</td>\n",
              "      <td>00:57:49</td>\n",
              "    </tr>\n",
              "    <tr>\n",
              "      <th>15011814</th>\n",
              "      <td>sms</td>\n",
              "      <td>0</td>\n",
              "      <td>2012-05-08 00:57:51</td>\n",
              "      <td>zsA2dnzCR5</td>\n",
              "      <td>2012-05-08</td>\n",
              "      <td>00:57:51</td>\n",
              "    </tr>\n",
              "    <tr>\n",
              "      <th>15011815</th>\n",
              "      <td>sms</td>\n",
              "      <td>0</td>\n",
              "      <td>2012-05-08 00:59:05</td>\n",
              "      <td>zn4qbCp2XH</td>\n",
              "      <td>2012-05-08</td>\n",
              "      <td>00:59:05</td>\n",
              "    </tr>\n",
              "  </tbody>\n",
              "</table>\n",
              "<p>15011816 rows × 6 columns</p>\n",
              "</div>"
            ],
            "text/plain": [
              "         product  value           date_time     cell_id       date      time\n",
              "0          Voice      0 2012-05-06 23:04:37  /TJNe+Mmtu 2012-05-06  23:04:37\n",
              "1            sms      0 2012-05-06 23:05:25  /+cKZKIp41 2012-05-06  23:05:25\n",
              "2            sms     25 2012-05-06 23:05:41  /u0FSD+ahi 2012-05-06  23:05:41\n",
              "3          Voice     56 2012-05-06 23:05:42  +cNeJzsTp3 2012-05-06  23:05:42\n",
              "4          Voice     14 2012-05-06 23:06:29  051KhYDCpv 2012-05-06  23:06:29\n",
              "...          ...    ...                 ...         ...        ...       ...\n",
              "15011811   Voice     40 2012-05-08 00:56:07  y8Zy+A5U3K 2012-05-08  00:56:07\n",
              "15011812     sms      0 2012-05-08 00:56:17  yGAZ0YDzFi 2012-05-08  00:56:17\n",
              "15011813     sms      0 2012-05-08 00:57:49  ywp1Gp+dk/ 2012-05-08  00:57:49\n",
              "15011814     sms      0 2012-05-08 00:57:51  zsA2dnzCR5 2012-05-08  00:57:51\n",
              "15011815     sms      0 2012-05-08 00:59:05  zn4qbCp2XH 2012-05-08  00:59:05\n",
              "\n",
              "[15011816 rows x 6 columns]"
            ]
          },
          "metadata": {
            "tags": []
          },
          "execution_count": 30
        }
      ]
    },
    {
      "cell_type": "code",
      "metadata": {
        "colab": {
          "base_uri": "https://localhost:8080/"
        },
        "id": "B5JgI7ef7w6Q",
        "outputId": "2a203b7c-4518-4ee3-b6f4-cdaa8a276292"
      },
      "source": [
        "# Verifying the changed data types\n",
        "dt06july.info()"
      ],
      "execution_count": 29,
      "outputs": [
        {
          "output_type": "stream",
          "text": [
            "<class 'pandas.core.frame.DataFrame'>\n",
            "RangeIndex: 15011816 entries, 0 to 15011815\n",
            "Data columns (total 6 columns):\n",
            " #   Column     Dtype         \n",
            "---  ------     -----         \n",
            " 0   product    object        \n",
            " 1   value      int64         \n",
            " 2   date_time  datetime64[ns]\n",
            " 3   cell_id    object        \n",
            " 4   date       datetime64[ns]\n",
            " 5   time       object        \n",
            "dtypes: datetime64[ns](2), int64(1), object(3)\n",
            "memory usage: 687.2+ MB\n"
          ],
          "name": "stdout"
        }
      ]
    },
    {
      "cell_type": "code",
      "metadata": {
        "colab": {
          "base_uri": "https://localhost:8080/"
        },
        "id": "p0BaQfWICF9H",
        "outputId": "1df244f9-d59e-4cb5-ae4d-2613834c555f"
      },
      "source": [
        "dt06july['product'].unique()"
      ],
      "execution_count": 50,
      "outputs": [
        {
          "output_type": "execute_result",
          "data": {
            "text/plain": [
              "array(['Voice', 'sms', 'data'], dtype=object)"
            ]
          },
          "metadata": {
            "tags": []
          },
          "execution_count": 50
        }
      ]
    },
    {
      "cell_type": "code",
      "metadata": {
        "colab": {
          "base_uri": "https://localhost:8080/"
        },
        "id": "lkcrIuuLCK_b",
        "outputId": "db370a3d-9ffb-41d5-bd9c-534b944773ff"
      },
      "source": [
        "dt06july['value'].unique()"
      ],
      "execution_count": 51,
      "outputs": [
        {
          "output_type": "execute_result",
          "data": {
            "text/plain": [
              "array([   0,   25,   56, ..., 2034, 4390, 2748])"
            ]
          },
          "metadata": {
            "tags": []
          },
          "execution_count": 51
        }
      ]
    },
    {
      "cell_type": "code",
      "metadata": {
        "colab": {
          "base_uri": "https://localhost:8080/"
        },
        "id": "qSVase_E6fb6",
        "outputId": "dbf9c6c8-2536-445d-d025-94e69bd5b903"
      },
      "source": [
        "cells_geo.drop(['localisation', 'decoupzone', 'zonename','longitude', 'latitude', 'site_code'], axis = 1, inplace = True) \n",
        "cells_geo.columns"
      ],
      "execution_count": 15,
      "outputs": [
        {
          "output_type": "execute_result",
          "data": {
            "text/plain": [
              "Index(['villes', 'status', 'region', 'area', 'cell_id'], dtype='object')"
            ]
          },
          "metadata": {
            "tags": []
          },
          "execution_count": 15
        }
      ]
    },
    {
      "cell_type": "code",
      "metadata": {
        "colab": {
          "base_uri": "https://localhost:8080/"
        },
        "id": "Rgbpiggu6fY4",
        "outputId": "94bc86e9-791e-4e75-89fe-e7e657fb3701"
      },
      "source": [
        "cells_geo.shape"
      ],
      "execution_count": 19,
      "outputs": [
        {
          "output_type": "execute_result",
          "data": {
            "text/plain": [
              "(3974, 5)"
            ]
          },
          "metadata": {
            "tags": []
          },
          "execution_count": 19
        }
      ]
    },
    {
      "cell_type": "code",
      "metadata": {
        "colab": {
          "base_uri": "https://localhost:8080/"
        },
        "id": "Nd-YCYhu7e-V",
        "outputId": "25fe49ac-f405-49d1-fc7f-b2e4458fce0b"
      },
      "source": [
        "cells_geo.info()"
      ],
      "execution_count": 20,
      "outputs": [
        {
          "output_type": "stream",
          "text": [
            "<class 'pandas.core.frame.DataFrame'>\n",
            "Int64Index: 3974 entries, 0 to 3973\n",
            "Data columns (total 5 columns):\n",
            " #   Column   Non-Null Count  Dtype \n",
            "---  ------   --------------  ----- \n",
            " 0   villes   3974 non-null   object\n",
            " 1   status   3907 non-null   object\n",
            " 2   region   3974 non-null   object\n",
            " 3   area     3951 non-null   object\n",
            " 4   cell_id  3974 non-null   object\n",
            "dtypes: object(5)\n",
            "memory usage: 186.3+ KB\n"
          ],
          "name": "stdout"
        }
      ]
    },
    {
      "cell_type": "markdown",
      "metadata": {
        "id": "4ZcAZ_mW8Dm6"
      },
      "source": [
        "## Finding and counting missing data"
      ]
    },
    {
      "cell_type": "code",
      "metadata": {
        "colab": {
          "base_uri": "https://localhost:8080/"
        },
        "id": "rD82RGdX8EZA",
        "outputId": "995a583b-42d9-4393-8d0c-bf0ed0998355"
      },
      "source": [
        "dt06july.count()"
      ],
      "execution_count": 23,
      "outputs": [
        {
          "output_type": "execute_result",
          "data": {
            "text/plain": [
              "product      15011816\n",
              "value        15011816\n",
              "date_time    15011816\n",
              "cell_id      15011816\n",
              "date         15011816\n",
              "time         15011816\n",
              "dtype: int64"
            ]
          },
          "metadata": {
            "tags": []
          },
          "execution_count": 23
        }
      ]
    },
    {
      "cell_type": "code",
      "metadata": {
        "colab": {
          "base_uri": "https://localhost:8080/"
        },
        "id": "8ElNtfLz8LVr",
        "outputId": "b8049529-7197-4287-a90f-e2898dc1041e"
      },
      "source": [
        "# Counting all null data in dataset 1\n",
        "\n",
        "np.count_nonzero(dt06july.isnull())"
      ],
      "execution_count": 24,
      "outputs": [
        {
          "output_type": "execute_result",
          "data": {
            "text/plain": [
              "0"
            ]
          },
          "metadata": {
            "tags": []
          },
          "execution_count": 24
        }
      ]
    },
    {
      "cell_type": "code",
      "metadata": {
        "colab": {
          "base_uri": "https://localhost:8080/"
        },
        "id": "w6ksIwY18UQr",
        "outputId": "2ef654d4-ea9f-42ac-8715-d53df12a86b2"
      },
      "source": [
        "# Counting data in the columns in dataset 2\n",
        "\n",
        "cells_geo.count()"
      ],
      "execution_count": 25,
      "outputs": [
        {
          "output_type": "execute_result",
          "data": {
            "text/plain": [
              "villes     3974\n",
              "status     3907\n",
              "region     3974\n",
              "area       3951\n",
              "cell_id    3974\n",
              "dtype: int64"
            ]
          },
          "metadata": {
            "tags": []
          },
          "execution_count": 25
        }
      ]
    },
    {
      "cell_type": "code",
      "metadata": {
        "colab": {
          "base_uri": "https://localhost:8080/"
        },
        "id": "yyX9eLYf8Vmk",
        "outputId": "a2b7317b-2484-49c7-b9ef-c59fd9816932"
      },
      "source": [
        "# Counting all null data in dataset 2\n",
        "\n",
        "np.count_nonzero(cells_geo.isnull())"
      ],
      "execution_count": 26,
      "outputs": [
        {
          "output_type": "execute_result",
          "data": {
            "text/plain": [
              "90"
            ]
          },
          "metadata": {
            "tags": []
          },
          "execution_count": 26
        }
      ]
    },
    {
      "cell_type": "code",
      "metadata": {
        "colab": {
          "base_uri": "https://localhost:8080/"
        },
        "id": "KqlHgupe8ULr",
        "outputId": "9c5f2ed2-3d2c-4653-9088-c9e4a427eb50"
      },
      "source": [
        "cells_geo = cells_geo.fillna(\"NA\")\n",
        "\n",
        "# Checking for null values\n",
        "\n",
        "np.count_nonzero(cells_geo.isnull())"
      ],
      "execution_count": 27,
      "outputs": [
        {
          "output_type": "execute_result",
          "data": {
            "text/plain": [
              "0"
            ]
          },
          "metadata": {
            "tags": []
          },
          "execution_count": 27
        }
      ]
    },
    {
      "cell_type": "markdown",
      "metadata": {
        "id": "SE4eNC456gGv"
      },
      "source": [
        "## Merging Data"
      ]
    },
    {
      "cell_type": "code",
      "metadata": {
        "colab": {
          "base_uri": "https://localhost:8080/"
        },
        "id": "nNQOtbEVDV-T",
        "outputId": "d600d9a8-363d-4c60-a3b7-a58b868b2d69"
      },
      "source": [
        "dt06july.shape"
      ],
      "execution_count": 52,
      "outputs": [
        {
          "output_type": "execute_result",
          "data": {
            "text/plain": [
              "(15011816, 6)"
            ]
          },
          "metadata": {
            "tags": []
          },
          "execution_count": 52
        }
      ]
    },
    {
      "cell_type": "code",
      "metadata": {
        "colab": {
          "base_uri": "https://localhost:8080/"
        },
        "id": "XQPo_5H1DV07",
        "outputId": "bc5a3519-e6a6-4f09-eaa1-2f2fc9be58ed"
      },
      "source": [
        "cells_geo.shape"
      ],
      "execution_count": 53,
      "outputs": [
        {
          "output_type": "execute_result",
          "data": {
            "text/plain": [
              "(3974, 5)"
            ]
          },
          "metadata": {
            "tags": []
          },
          "execution_count": 53
        }
      ]
    },
    {
      "cell_type": "code",
      "metadata": {
        "colab": {
          "base_uri": "https://localhost:8080/",
          "height": 404
        },
        "id": "48BZ53F46fR6",
        "outputId": "9e8ae18e-c5c5-4e60-d25a-891a067f60af"
      },
      "source": [
        "merged_df = dt06july.merge(cells_geo, how='inner', on='cell_id')\n",
        "\n",
        "merged_df"
      ],
      "execution_count": 31,
      "outputs": [
        {
          "output_type": "execute_result",
          "data": {
            "text/html": [
              "<div>\n",
              "<style scoped>\n",
              "    .dataframe tbody tr th:only-of-type {\n",
              "        vertical-align: middle;\n",
              "    }\n",
              "\n",
              "    .dataframe tbody tr th {\n",
              "        vertical-align: top;\n",
              "    }\n",
              "\n",
              "    .dataframe thead th {\n",
              "        text-align: right;\n",
              "    }\n",
              "</style>\n",
              "<table border=\"1\" class=\"dataframe\">\n",
              "  <thead>\n",
              "    <tr style=\"text-align: right;\">\n",
              "      <th></th>\n",
              "      <th>product</th>\n",
              "      <th>value</th>\n",
              "      <th>date_time</th>\n",
              "      <th>cell_id</th>\n",
              "      <th>date</th>\n",
              "      <th>time</th>\n",
              "      <th>villes</th>\n",
              "      <th>status</th>\n",
              "      <th>region</th>\n",
              "      <th>area</th>\n",
              "    </tr>\n",
              "  </thead>\n",
              "  <tbody>\n",
              "    <tr>\n",
              "      <th>0</th>\n",
              "      <td>Voice</td>\n",
              "      <td>0</td>\n",
              "      <td>2012-05-07 08:33:43</td>\n",
              "      <td>1ce5a37ea9</td>\n",
              "      <td>2012-05-07</td>\n",
              "      <td>08:33:43</td>\n",
              "      <td>ATTECOUBE</td>\n",
              "      <td>In Service</td>\n",
              "      <td>LAGUNE</td>\n",
              "      <td>ABIDJAN NORTH</td>\n",
              "    </tr>\n",
              "    <tr>\n",
              "      <th>1</th>\n",
              "      <td>Voice</td>\n",
              "      <td>0</td>\n",
              "      <td>2012-05-07 08:36:17</td>\n",
              "      <td>24ced8b6ba</td>\n",
              "      <td>2012-05-07</td>\n",
              "      <td>08:36:17</td>\n",
              "      <td>PORT-BOUET</td>\n",
              "      <td>In Service</td>\n",
              "      <td>LAGUNE</td>\n",
              "      <td>ABIDJAN SOUTH</td>\n",
              "    </tr>\n",
              "    <tr>\n",
              "      <th>2</th>\n",
              "      <td>Voice</td>\n",
              "      <td>0</td>\n",
              "      <td>2012-05-07 08:37:47</td>\n",
              "      <td>f7f527c807</td>\n",
              "      <td>2012-05-07</td>\n",
              "      <td>08:37:47</td>\n",
              "      <td>PLATEAU</td>\n",
              "      <td>In Service</td>\n",
              "      <td>LAGUNE</td>\n",
              "      <td>ABIDJAN SOUTH</td>\n",
              "    </tr>\n",
              "    <tr>\n",
              "      <th>3</th>\n",
              "      <td>Voice</td>\n",
              "      <td>0</td>\n",
              "      <td>2012-05-07 09:56:52</td>\n",
              "      <td>f7f527c807</td>\n",
              "      <td>2012-05-07</td>\n",
              "      <td>09:56:52</td>\n",
              "      <td>PLATEAU</td>\n",
              "      <td>In Service</td>\n",
              "      <td>LAGUNE</td>\n",
              "      <td>ABIDJAN SOUTH</td>\n",
              "    </tr>\n",
              "    <tr>\n",
              "      <th>4</th>\n",
              "      <td>Voice</td>\n",
              "      <td>0</td>\n",
              "      <td>2012-05-07 20:17:41</td>\n",
              "      <td>f7f527c807</td>\n",
              "      <td>2012-05-07</td>\n",
              "      <td>20:17:41</td>\n",
              "      <td>PLATEAU</td>\n",
              "      <td>In Service</td>\n",
              "      <td>LAGUNE</td>\n",
              "      <td>ABIDJAN SOUTH</td>\n",
              "    </tr>\n",
              "    <tr>\n",
              "      <th>...</th>\n",
              "      <td>...</td>\n",
              "      <td>...</td>\n",
              "      <td>...</td>\n",
              "      <td>...</td>\n",
              "      <td>...</td>\n",
              "      <td>...</td>\n",
              "      <td>...</td>\n",
              "      <td>...</td>\n",
              "      <td>...</td>\n",
              "      <td>...</td>\n",
              "    </tr>\n",
              "    <tr>\n",
              "      <th>171</th>\n",
              "      <td>Voice</td>\n",
              "      <td>0</td>\n",
              "      <td>2012-05-07 17:18:41</td>\n",
              "      <td>c139839893</td>\n",
              "      <td>2012-05-07</td>\n",
              "      <td>17:18:41</td>\n",
              "      <td>TOUMODI</td>\n",
              "      <td>In Service</td>\n",
              "      <td>LACS</td>\n",
              "      <td>CENTRE NORTH</td>\n",
              "    </tr>\n",
              "    <tr>\n",
              "      <th>172</th>\n",
              "      <td>Voice</td>\n",
              "      <td>0</td>\n",
              "      <td>2012-05-07 18:22:06</td>\n",
              "      <td>26c6f83911</td>\n",
              "      <td>2012-05-07</td>\n",
              "      <td>18:22:06</td>\n",
              "      <td>YAMOUSSOUKRO</td>\n",
              "      <td>In Service</td>\n",
              "      <td>LACS</td>\n",
              "      <td>CENTRE NORTH</td>\n",
              "    </tr>\n",
              "    <tr>\n",
              "      <th>173</th>\n",
              "      <td>Voice</td>\n",
              "      <td>0</td>\n",
              "      <td>2012-05-07 18:54:34</td>\n",
              "      <td>e149c8fe4f</td>\n",
              "      <td>2012-05-07</td>\n",
              "      <td>18:54:34</td>\n",
              "      <td>ADJAME</td>\n",
              "      <td>In Service</td>\n",
              "      <td>LAGUNE</td>\n",
              "      <td>ABIDJAN NORTH</td>\n",
              "    </tr>\n",
              "    <tr>\n",
              "      <th>174</th>\n",
              "      <td>Voice</td>\n",
              "      <td>0</td>\n",
              "      <td>2012-05-07 19:05:58</td>\n",
              "      <td>cbe7ed52d0</td>\n",
              "      <td>2012-05-07</td>\n",
              "      <td>19:05:58</td>\n",
              "      <td>MARCORY</td>\n",
              "      <td>In Service</td>\n",
              "      <td>LAGUNE</td>\n",
              "      <td>ABIDJAN SOUTH</td>\n",
              "    </tr>\n",
              "    <tr>\n",
              "      <th>175</th>\n",
              "      <td>Voice</td>\n",
              "      <td>0</td>\n",
              "      <td>2012-05-07 19:07:33</td>\n",
              "      <td>d09515394c</td>\n",
              "      <td>2012-05-07</td>\n",
              "      <td>19:07:33</td>\n",
              "      <td>YAMOUSSOUKRO</td>\n",
              "      <td>In Service</td>\n",
              "      <td>LACS</td>\n",
              "      <td>CENTRE NORTH</td>\n",
              "    </tr>\n",
              "  </tbody>\n",
              "</table>\n",
              "<p>176 rows × 10 columns</p>\n",
              "</div>"
            ],
            "text/plain": [
              "    product  value           date_time  ...      status  region           area\n",
              "0     Voice      0 2012-05-07 08:33:43  ...  In Service  LAGUNE  ABIDJAN NORTH\n",
              "1     Voice      0 2012-05-07 08:36:17  ...  In Service  LAGUNE  ABIDJAN SOUTH\n",
              "2     Voice      0 2012-05-07 08:37:47  ...  In Service  LAGUNE  ABIDJAN SOUTH\n",
              "3     Voice      0 2012-05-07 09:56:52  ...  In Service  LAGUNE  ABIDJAN SOUTH\n",
              "4     Voice      0 2012-05-07 20:17:41  ...  In Service  LAGUNE  ABIDJAN SOUTH\n",
              "..      ...    ...                 ...  ...         ...     ...            ...\n",
              "171   Voice      0 2012-05-07 17:18:41  ...  In Service    LACS   CENTRE NORTH\n",
              "172   Voice      0 2012-05-07 18:22:06  ...  In Service    LACS   CENTRE NORTH\n",
              "173   Voice      0 2012-05-07 18:54:34  ...  In Service  LAGUNE  ABIDJAN NORTH\n",
              "174   Voice      0 2012-05-07 19:05:58  ...  In Service  LAGUNE  ABIDJAN SOUTH\n",
              "175   Voice      0 2012-05-07 19:07:33  ...  In Service    LACS   CENTRE NORTH\n",
              "\n",
              "[176 rows x 10 columns]"
            ]
          },
          "metadata": {
            "tags": []
          },
          "execution_count": 31
        }
      ]
    },
    {
      "cell_type": "code",
      "metadata": {
        "colab": {
          "base_uri": "https://localhost:8080/"
        },
        "id": "iGMTHRIp6fN5",
        "outputId": "d77174ae-322f-42b2-ffb0-2a520bc0b6aa"
      },
      "source": [
        "merged_df.shape"
      ],
      "execution_count": 54,
      "outputs": [
        {
          "output_type": "execute_result",
          "data": {
            "text/plain": [
              "(176, 10)"
            ]
          },
          "metadata": {
            "tags": []
          },
          "execution_count": 54
        }
      ]
    },
    {
      "cell_type": "markdown",
      "metadata": {
        "id": "Wu1h22mw9AWZ"
      },
      "source": [
        "# Analysis"
      ]
    },
    {
      "cell_type": "markdown",
      "metadata": {
        "id": "mK8zYtz98-Hv"
      },
      "source": [
        "## Question 1 : Most used city for the three days?"
      ]
    },
    {
      "cell_type": "code",
      "metadata": {
        "colab": {
          "base_uri": "https://localhost:8080/"
        },
        "id": "OWlokJHM89PT",
        "outputId": "51c6903a-7178-4866-bc06-51ee38dcdfce"
      },
      "source": [
        "merged_df['value'].groupby(merged_df['villes']).count().sort_values(ascending=False)"
      ],
      "execution_count": 48,
      "outputs": [
        {
          "output_type": "execute_result",
          "data": {
            "text/plain": [
              "villes\n",
              "COCODY          65\n",
              "TIASSALE        18\n",
              "TREICHVILLE     14\n",
              "PORT-BOUET      14\n",
              "YAMOUSSOUKRO    11\n",
              "MARCORY         10\n",
              "ABOBO            9\n",
              "KOUMASSI         6\n",
              "ADJAME           6\n",
              "YOPOUGON         5\n",
              "PLATEAU          5\n",
              "ATTECOUBE        4\n",
              "SOUBRE           3\n",
              "BINGERVILLE      3\n",
              "SONGON           2\n",
              "TOUMODI          1\n",
              "Name: value, dtype: int64"
            ]
          },
          "metadata": {
            "tags": []
          },
          "execution_count": 48
        }
      ]
    },
    {
      "cell_type": "markdown",
      "metadata": {
        "id": "qw3ttI_OA-UZ"
      },
      "source": [
        "## Question 2 : Least used city for the three days?"
      ]
    },
    {
      "cell_type": "code",
      "metadata": {
        "colab": {
          "base_uri": "https://localhost:8080/"
        },
        "id": "sgp9FtoX89NB",
        "outputId": "fb9210e9-043b-46fc-c614-5e1a1bae2cff"
      },
      "source": [
        "merged_df['value'].groupby(merged_df['villes']).count().sort_values(ascending=True)"
      ],
      "execution_count": 46,
      "outputs": [
        {
          "output_type": "execute_result",
          "data": {
            "text/plain": [
              "villes\n",
              "TOUMODI          1\n",
              "SONGON           2\n",
              "BINGERVILLE      3\n",
              "SOUBRE           3\n",
              "ATTECOUBE        4\n",
              "PLATEAU          5\n",
              "YOPOUGON         5\n",
              "ADJAME           6\n",
              "KOUMASSI         6\n",
              "ABOBO            9\n",
              "MARCORY         10\n",
              "YAMOUSSOUKRO    11\n",
              "PORT-BOUET      14\n",
              "TREICHVILLE     14\n",
              "TIASSALE        18\n",
              "COCODY          65\n",
              "Name: value, dtype: int64"
            ]
          },
          "metadata": {
            "tags": []
          },
          "execution_count": 46
        }
      ]
    },
    {
      "cell_type": "markdown",
      "metadata": {
        "id": "TUMGx-aI9FEt"
      },
      "source": [
        "## Question 2 : Which ones were the most used city for the three days?"
      ]
    },
    {
      "cell_type": "code",
      "metadata": {
        "colab": {
          "base_uri": "https://localhost:8080/"
        },
        "id": "OXSE96je89KV",
        "outputId": "bb20ff46-64e3-42a9-dc7c-1ccf0acd03d6"
      },
      "source": [
        "merged_df['value'].groupby([merged_df['villes'], merged_df['product']]).count().sort_values(ascending=False)"
      ],
      "execution_count": 36,
      "outputs": [
        {
          "output_type": "execute_result",
          "data": {
            "text/plain": [
              "villes        product\n",
              "COCODY        Voice      65\n",
              "TIASSALE      Voice      18\n",
              "TREICHVILLE   Voice      14\n",
              "PORT-BOUET    Voice      14\n",
              "YAMOUSSOUKRO  Voice      11\n",
              "MARCORY       Voice      10\n",
              "ABOBO         Voice       9\n",
              "KOUMASSI      Voice       6\n",
              "ADJAME        Voice       6\n",
              "YOPOUGON      Voice       5\n",
              "PLATEAU       Voice       5\n",
              "ATTECOUBE     Voice       4\n",
              "SOUBRE        Voice       3\n",
              "BINGERVILLE   Voice       3\n",
              "SONGON        Voice       2\n",
              "TOUMODI       Voice       1\n",
              "Name: value, dtype: int64"
            ]
          },
          "metadata": {
            "tags": []
          },
          "execution_count": 36
        }
      ]
    },
    {
      "cell_type": "code",
      "metadata": {
        "id": "sZZIEEwQ89Hi"
      },
      "source": [
        ""
      ],
      "execution_count": null,
      "outputs": []
    },
    {
      "cell_type": "markdown",
      "metadata": {
        "id": "0ZVv4Oj09NWD"
      },
      "source": [
        "## Question 3 : Which product was used the most during these three days?"
      ]
    },
    {
      "cell_type": "code",
      "metadata": {
        "colab": {
          "base_uri": "https://localhost:8080/"
        },
        "id": "5cM0iYez89Eu",
        "outputId": "a602b2ba-89fa-49d0-bea8-db21799ecd37"
      },
      "source": [
        "merged_df['product'].describe()"
      ],
      "execution_count": 42,
      "outputs": [
        {
          "output_type": "execute_result",
          "data": {
            "text/plain": [
              "count       176\n",
              "unique        1\n",
              "top       Voice\n",
              "freq        176\n",
              "Name: product, dtype: object"
            ]
          },
          "metadata": {
            "tags": []
          },
          "execution_count": 42
        }
      ]
    },
    {
      "cell_type": "code",
      "metadata": {
        "colab": {
          "base_uri": "https://localhost:8080/"
        },
        "id": "5eagUtrI-q6i",
        "outputId": "790be353-d7df-4754-c141-821a35f65336"
      },
      "source": [
        "merged_df['product'].unique()"
      ],
      "execution_count": 43,
      "outputs": [
        {
          "output_type": "execute_result",
          "data": {
            "text/plain": [
              "array(['Voice'], dtype=object)"
            ]
          },
          "metadata": {
            "tags": []
          },
          "execution_count": 43
        }
      ]
    },
    {
      "cell_type": "code",
      "metadata": {
        "colab": {
          "base_uri": "https://localhost:8080/"
        },
        "id": "8s8VrrlRB0Ww",
        "outputId": "23ccb826-ea29-4121-ef36-f99474372cb7"
      },
      "source": [
        "merged_df['value'].unique()"
      ],
      "execution_count": 49,
      "outputs": [
        {
          "output_type": "execute_result",
          "data": {
            "text/plain": [
              "array([0])"
            ]
          },
          "metadata": {
            "tags": []
          },
          "execution_count": 49
        }
      ]
    },
    {
      "cell_type": "code",
      "metadata": {
        "colab": {
          "base_uri": "https://localhost:8080/"
        },
        "id": "1eX3wEFJ9UHJ",
        "outputId": "19da5ad1-a886-4b27-bd10-10a0bae914e8"
      },
      "source": [
        "merged_df['value'].describe()"
      ],
      "execution_count": 39,
      "outputs": [
        {
          "output_type": "execute_result",
          "data": {
            "text/plain": [
              "count    176.0\n",
              "mean       0.0\n",
              "std        0.0\n",
              "min        0.0\n",
              "25%        0.0\n",
              "50%        0.0\n",
              "75%        0.0\n",
              "max        0.0\n",
              "Name: value, dtype: float64"
            ]
          },
          "metadata": {
            "tags": []
          },
          "execution_count": 39
        }
      ]
    },
    {
      "cell_type": "code",
      "metadata": {
        "colab": {
          "base_uri": "https://localhost:8080/"
        },
        "id": "1yxSwfhe9UD2",
        "outputId": "4e3eda0b-b0b7-4d7d-f158-328adc35bf22"
      },
      "source": [
        "merged_df['value'].groupby(merged_df['product']).count().sort_values(ascending=False)"
      ],
      "execution_count": 40,
      "outputs": [
        {
          "output_type": "execute_result",
          "data": {
            "text/plain": [
              "product\n",
              "Voice    176\n",
              "Name: value, dtype: int64"
            ]
          },
          "metadata": {
            "tags": []
          },
          "execution_count": 40
        }
      ]
    },
    {
      "cell_type": "code",
      "metadata": {
        "id": "jcqKosR-9T-t"
      },
      "source": [
        ""
      ],
      "execution_count": null,
      "outputs": []
    },
    {
      "cell_type": "markdown",
      "metadata": {
        "id": "3_-fnEJ49-28"
      },
      "source": [
        "## Question 4 : Which product accounted for the highest revenue during the three days?\n"
      ]
    },
    {
      "cell_type": "code",
      "metadata": {
        "colab": {
          "base_uri": "https://localhost:8080/"
        },
        "id": "IStXQb1i9T8R",
        "outputId": "dc076db2-4909-4b02-da08-9b5778d07376"
      },
      "source": [
        "merged_df['value'].groupby(merged_df['product']).max()"
      ],
      "execution_count": 44,
      "outputs": [
        {
          "output_type": "execute_result",
          "data": {
            "text/plain": [
              "product\n",
              "Voice    0\n",
              "Name: value, dtype: int64"
            ]
          },
          "metadata": {
            "tags": []
          },
          "execution_count": 44
        }
      ]
    },
    {
      "cell_type": "code",
      "metadata": {
        "colab": {
          "base_uri": "https://localhost:8080/"
        },
        "id": "fnnHr0-99T6G",
        "outputId": "0b2847fa-bb49-4ad8-b19a-d467b3711e19"
      },
      "source": [
        "merged_df['value'].groupby(merged_df['product']).mean()"
      ],
      "execution_count": 45,
      "outputs": [
        {
          "output_type": "execute_result",
          "data": {
            "text/plain": [
              "product\n",
              "Voice    0\n",
              "Name: value, dtype: int64"
            ]
          },
          "metadata": {
            "tags": []
          },
          "execution_count": 45
        }
      ]
    },
    {
      "cell_type": "code",
      "metadata": {
        "id": "dU6qQoRr9T2m"
      },
      "source": [
        ""
      ],
      "execution_count": null,
      "outputs": []
    },
    {
      "cell_type": "code",
      "metadata": {
        "id": "sNmYvsES9TyZ"
      },
      "source": [
        ""
      ],
      "execution_count": null,
      "outputs": []
    },
    {
      "cell_type": "code",
      "metadata": {
        "id": "C-ta3rm089BX"
      },
      "source": [
        ""
      ],
      "execution_count": null,
      "outputs": []
    }
  ]
}